{
  "cells": [
    {
      "cell_type": "code",
      "execution_count": 8,
      "metadata": {
        "colab": {
          "base_uri": "https://localhost:8080/",
          "height": 341
        },
        "id": "NxwZOymW2fhv",
        "outputId": "3d41e0d8-5dba-430c-8170-87fbfaf44fb8"
      },
      "outputs": [],
      "source": [
        "Rules = {\n",
        "      \"A\": \"ا\",\n",
        "      \"AA\": \"آ\",\n",
        "      \"B\": \"ب\",\n",
        "      \"P\":\"پ\",\n",
        "      \"T\":\"ت\",\n",
        "      \"J\":\"ج\",\n",
        "      \"S\":\"س\",\n",
        "      \"CH\":\"چ\",\n",
        "      \"H\":\"ه\",\n",
        "      \"KH\":\"خ\",\n",
        "      \"D\":\"د\",\n",
        "      \"Z\":\"ذ\",\n",
        "      \"R\":\"ر\",\n",
        "      \"SH\":\"ش\",\n",
        "      \"GH\":\"غ\",\n",
        "      \"F\":\"ف\",\n",
        "      \"K\":\"ک\",\n",
        "      \"G\":\"گ\",\n",
        "      \"L\":\"ل\",\n",
        "      \"M\":\"م\",\n",
        "      \"N\":\"ن\",\n",
        "      \"O\":\"و\",\n",
        "      \"Y\":\"ی\",\n",
        "      \"E\":\"ے\",\n",
        "}"
      ]
    },
    {
      "cell_type": "code",
      "execution_count": 11,
      "metadata": {
        "id": "05FKO1_sbAyI"
      },
      "outputs": [],
      "source": [
        "def transString(string, reverse=0):\n",
        "    '''Given a Unicode string, transliterate into Buckwalter. To go from\n",
        "    Buckwalter back to Unicode, set reverse=1'''\n",
        "\n",
        "    for k, v in Rules.items():\n",
        "          #print(k + \":\" + v)\n",
        "          if not reverse:\n",
        "                string = string.replace(k, v)\n",
        "          else:\n",
        "                string = string.replace(v, k)\n",
        "\n",
        "    return string\n"
      ]
    },
    {
      "cell_type": "code",
      "execution_count": 12,
      "metadata": {},
      "outputs": [
        {
          "name": "stdout",
          "output_type": "stream",
          "text": [
            "الو\n"
          ]
        }
      ],
      "source": [
        "print(transString(\"ALO\"))"
      ]
    },
    {
      "cell_type": "code",
      "execution_count": 68,
      "metadata": {},
      "outputs": [],
      "source": [
        "# Rule 1 . . .\n",
        "'''\n",
        "Except ‘a’, ‘e’, ‘i’, ‘o’, ‘u’, ‘y’ and ‘h’, \n",
        "change the case of all the characters of rom_word into capital. \n",
        "'''\n",
        "def rule_1(sentence):\n",
        "    expect = {'a','e','i','o','u','y','h'}\n",
        "    words = sentence.split(\" \")\n",
        "    output = \" \"\n",
        "    for i in range(len(words)):\n",
        "        word = words[i]\n",
        "        modified = \"\"\n",
        "        for k in range(len(word)):\n",
        "            if word[k] in expect:\n",
        "                modified += word[k]\n",
        "            else:\n",
        "                modified += (word[k]).upper()\n",
        "        words[i] = modified\n",
        "        output.join(words[i])\n",
        "\n",
        "    print(\"Rule 1 >: \",words)\n",
        "    return output.join(words)"
      ]
    },
    {
      "cell_type": "code",
      "execution_count": 79,
      "metadata": {},
      "outputs": [],
      "source": [
        "# Rule 2 . . . \n",
        "'''\n",
        "If the two consequent capital letters are the same, delete one of those double letters\n",
        "'''\n",
        "def rule_2(sentence):\n",
        "    output = \" \"\n",
        "    words = sentence.split(\" \")\n",
        "    for i in range(len(words)):\n",
        "        word = words[i]\n",
        "        modified = \"\"\n",
        "        for k in range(1,len(word)):\n",
        "            if word[k-1] == word[k] and word[k].isupper():\n",
        "                continue\n",
        "            else:\n",
        "                modified += word[k-1]\n",
        "        modified += word[k]\n",
        "        words[i] = modified\n",
        "    print(\"Rule 2 >: \",words)\n",
        "    return output.join(words)"
      ]
    },
    {
      "cell_type": "code",
      "execution_count": 84,
      "metadata": {},
      "outputs": [],
      "source": [
        "# Rule 3 . . . \n",
        "'''\n",
        "If the word begins with a vowel, append ‘A’ at the beginning of the word.\n",
        "'''\n",
        "def rule_3(sentence):\n",
        "    vowal = {'a','e','i','o','u'}\n",
        "    output = \" \"\n",
        "    words = sentence.split(\" \")\n",
        "    for i in range(len(words)):\n",
        "        word = words[i]\n",
        "        modified = \"\"\n",
        "        if word[0] in vowal:\n",
        "            modified += 'A'\n",
        "        modified += word\n",
        "        words[i] = modified\n",
        "    print(\"Rule 3 >: \",words)\n",
        "    return output.join(words)"
      ]
    },
    {
      "cell_type": "code",
      "execution_count": 89,
      "metadata": {},
      "outputs": [],
      "source": [
        "# Rule 4\n",
        "'''\n",
        "For the sequences ‘eh’ and ‘oh’, do the following replacements. Consider the longest match at left hand side.\n",
        "ehe = eHe, H\n",
        "eh = eH, H\n",
        "oh = oH, H\n",
        "h = H\n",
        "'''\n",
        "def rule_4(sentence):\n",
        "    import re\n",
        "    output = \" \"\n",
        "    words = sentence.split(\" \")\n",
        "    for i in range(len(words)):\n",
        "        h = re.compile(r'h')\n",
        "        words[i] = h.sub(r'H', words[i])\n",
        "\n",
        "        oh = re.compile(r'oH')\n",
        "        words[i] = oh.sub(r'H', words[i])\n",
        "\n",
        "        eh = re.compile(r'eH')\n",
        "        words[i] = eh.sub(r'H', words[i])\n",
        "\n",
        "        ehe = re.compile(r'eHe')\n",
        "        words[i] = ehe.sub(r'H', words[i])\n",
        "\n",
        "    print(\"Rule 4 >: \",words)\n",
        "    return output.join(words)"
      ]
    },
    {
      "cell_type": "code",
      "execution_count": 90,
      "metadata": {},
      "outputs": [
        {
          "name": "stdout",
          "output_type": "stream",
          "text": [
            "Rule 1 >:  ['aLaG', 'uLLo', 'BuKhaR', 'Bhai', 'hai', 'Bhayi', 'ShohRaT']\n",
            "Rule 2 >:  ['aLaG', 'uLo', 'BuKhaR', 'Bhai', 'hai', 'Bhayi', 'ShohRaT']\n",
            "Rule 3 >:  ['AaLaG', 'AuLo', 'BuKhaR', 'Bhai', 'hai', 'Bhayi', 'ShohRaT']\n",
            "Rule 4 >:  ['aLaG', 'uLo', 'BuKHaR', 'BHai', 'Hai', 'BHayi', 'SHHRaT']\n"
          ]
        },
        {
          "data": {
            "text/plain": [
              "'aLaG uLo BuKHaR BHai Hai BHayi SHHRaT'"
            ]
          },
          "execution_count": 90,
          "metadata": {},
          "output_type": "execute_result"
        }
      ],
      "source": [
        "sentence = \"alag ullo bukhar bhai hai bhayi shohrat\"\n",
        "sentence = rule_1 (sentence)\n",
        "\n",
        "sentence = rule_2(sentence)\n",
        "\n",
        "rule_3(sentence)\n",
        "\n",
        "rule_4(sentence)"
      ]
    },
    {
      "cell_type": "code",
      "execution_count": 59,
      "metadata": {},
      "outputs": [
        {
          "name": "stdout",
          "output_type": "stream",
          "text": [
            " aLaG uLLo BuKhaR Bhai hai Bhayi ShohRaT\n"
          ]
        }
      ],
      "source": [
        "print(sentence)"
      ]
    },
    {
      "cell_type": "code",
      "execution_count": null,
      "metadata": {},
      "outputs": [],
      "source": []
    }
  ],
  "metadata": {
    "colab": {
      "collapsed_sections": [],
      "name": "Cluster.ipynb",
      "provenance": []
    },
    "interpreter": {
      "hash": "bd76af128d7c40b48583a811a9c1879190eadb08cc3a308c5c2f1ddbc04e5a8b"
    },
    "kernelspec": {
      "display_name": "Python 3.7.1 64-bit (system)",
      "name": "python3"
    },
    "language_info": {
      "codemirror_mode": {
        "name": "ipython",
        "version": 3
      },
      "file_extension": ".py",
      "mimetype": "text/x-python",
      "name": "python",
      "nbconvert_exporter": "python",
      "pygments_lexer": "ipython3",
      "version": "3.7.1"
    }
  },
  "nbformat": 4,
  "nbformat_minor": 0
}
