{
  "cells": [
    {
      "cell_type": "code",
      "execution_count": 8,
      "metadata": {
        "colab": {
          "base_uri": "https://localhost:8080/",
          "height": 341
        },
        "id": "NxwZOymW2fhv",
        "outputId": "3d41e0d8-5dba-430c-8170-87fbfaf44fb8"
      },
      "outputs": [],
      "source": [
        "Rules = {\n",
        "      \"A\": \"ا\",\n",
        "      \"AA\": \"آ\",\n",
        "      \"B\": \"ب\",\n",
        "      \"P\":\"پ\",\n",
        "      \"T\":\"ت\",\n",
        "      \"J\":\"ج\",\n",
        "      \"S\":\"س\",\n",
        "      \"CH\":\"چ\",\n",
        "      \"H\":\"ه\",\n",
        "      \"KH\":\"خ\",\n",
        "      \"D\":\"د\",\n",
        "      \"Z\":\"ذ\",\n",
        "      \"R\":\"ر\",\n",
        "      \"SH\":\"ش\",\n",
        "      \"GH\":\"غ\",\n",
        "      \"F\":\"ف\",\n",
        "      \"K\":\"ک\",\n",
        "      \"G\":\"گ\",\n",
        "      \"L\":\"ل\",\n",
        "      \"M\":\"م\",\n",
        "      \"N\":\"ن\",\n",
        "      \"O\":\"و\",\n",
        "      \"Y\":\"ی\",\n",
        "      \"E\":\"ے\",\n",
        "}"
      ]
    },
    {
      "cell_type": "code",
      "execution_count": 11,
      "metadata": {
        "id": "05FKO1_sbAyI"
      },
      "outputs": [],
      "source": [
        "def transString(string, reverse=0):\n",
        "    '''Given a Unicode string, transliterate into Buckwalter. To go from\n",
        "    Buckwalter back to Unicode, set reverse=1'''\n",
        "\n",
        "    for k, v in Rules.items():\n",
        "          #print(k + \":\" + v)\n",
        "          if not reverse:\n",
        "                string = string.replace(k, v)\n",
        "          else:\n",
        "                string = string.replace(v, k)\n",
        "\n",
        "    return string\n"
      ]
    },
    {
      "cell_type": "code",
      "execution_count": 12,
      "metadata": {},
      "outputs": [
        {
          "name": "stdout",
          "output_type": "stream",
          "text": [
            "الو\n"
          ]
        }
      ],
      "source": [
        "print(transString(\"ALO\"))"
      ]
    },
    {
      "cell_type": "code",
      "execution_count": null,
      "metadata": {},
      "outputs": [],
      "source": [
        "#"
      ]
    }
  ],
  "metadata": {
    "colab": {
      "collapsed_sections": [],
      "name": "Cluster.ipynb",
      "provenance": []
    },
    "interpreter": {
      "hash": "bd76af128d7c40b48583a811a9c1879190eadb08cc3a308c5c2f1ddbc04e5a8b"
    },
    "kernelspec": {
      "display_name": "Python 3.7.1 64-bit (system)",
      "name": "python3"
    },
    "language_info": {
      "codemirror_mode": {
        "name": "ipython",
        "version": 3
      },
      "file_extension": ".py",
      "mimetype": "text/x-python",
      "name": "python",
      "nbconvert_exporter": "python",
      "pygments_lexer": "ipython3",
      "version": "3.7.1"
    }
  },
  "nbformat": 4,
  "nbformat_minor": 0
}
